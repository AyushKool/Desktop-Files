{
 "cells": [
  {
   "cell_type": "code",
   "execution_count": 4,
   "metadata": {},
   "outputs": [
    {
     "output_type": "execute_result",
     "data": {
      "text/plain": "                     1/22/20  1/23/20  1/24/20  1/25/20  1/26/20  1/27/20  \\\nCountry                                                                     \nAfghanistan                0        0        0        0        0        0   \nAlbania                    0        0        0        0        0        0   \nAlgeria                    0        0        0        0        0        0   \nAndorra                    0        0        0        0        0        0   \nAngola                     0        0        0        0        0        0   \nAntigua and Barbuda        0        0        0        0        0        0   \nArgentina                  0        0        0        0        0        0   \nArmenia                    0        0        0        0        0        0   \nAustralia                  0        0        0        0        0        0   \nAustria                    0        0        0        0        0        0   \n\n                     1/28/20  1/29/20  1/30/20  1/31/20  ...  6/9/20  6/10/20  \\\nCountry                                                  ...                    \nAfghanistan                0        0        0        0  ...    2651     3013   \nAlbania                    0        0        0        0  ...     960      980   \nAlgeria                    0        0        0        0  ...    6951     7074   \nAndorra                    0        0        0        0  ...     757      759   \nAngola                     0        0        0        0  ...      38       40   \nAntigua and Barbuda        0        0        0        0  ...      20       20   \nArgentina                  0        0        0        0  ...    7568     7991   \nArmenia                    0        0        0        0  ...    4451     5226   \nAustralia                  0        0        2        2  ...    6740     6759   \nAustria                    0        0        0        0  ...   15875    15910   \n\n                     6/11/20  6/12/20  6/13/20  6/14/20  6/15/20  6/16/20  \\\nCountry                                                                     \nAfghanistan             3326     3928     4201     4725     5164     5508   \nAlbania                 1001     1034     1039     1044     1055     1064   \nAlgeria                 7255     7322     7420     7606     7735     7842   \nAndorra                  780      781      781      781      789      789   \nAngola                    41       42       61       61       64       64   \nAntigua and Barbuda       20       20       20       20       20       22   \nArgentina               8332     8743     9083     9564     9891    10174   \nArmenia                 5466     5639     6081     6214     6276     6571   \nAustralia               6782     6803     6838     6851     6856     6861   \nAustria                15949    15985    16012    16059    16066    16089   \n\n                     6/17/20  6/18/20  \nCountry                                \nAfghanistan             6158     7660  \nAlbania                 1077     1086  \nAlgeria                 7943     8078  \nAndorra                  791      792  \nAngola                    64       64  \nAntigua and Barbuda       22       22  \nArgentina              10512    10721  \nArmenia                 6814     7560  \nAustralia               6877     6878  \nAustria                16099    16101  \n\n[10 rows x 149 columns]",
      "text/html": "<div>\n<style scoped>\n    .dataframe tbody tr th:only-of-type {\n        vertical-align: middle;\n    }\n\n    .dataframe tbody tr th {\n        vertical-align: top;\n    }\n\n    .dataframe thead th {\n        text-align: right;\n    }\n</style>\n<table border=\"1\" class=\"dataframe\">\n  <thead>\n    <tr style=\"text-align: right;\">\n      <th></th>\n      <th>1/22/20</th>\n      <th>1/23/20</th>\n      <th>1/24/20</th>\n      <th>1/25/20</th>\n      <th>1/26/20</th>\n      <th>1/27/20</th>\n      <th>1/28/20</th>\n      <th>1/29/20</th>\n      <th>1/30/20</th>\n      <th>1/31/20</th>\n      <th>...</th>\n      <th>6/9/20</th>\n      <th>6/10/20</th>\n      <th>6/11/20</th>\n      <th>6/12/20</th>\n      <th>6/13/20</th>\n      <th>6/14/20</th>\n      <th>6/15/20</th>\n      <th>6/16/20</th>\n      <th>6/17/20</th>\n      <th>6/18/20</th>\n    </tr>\n    <tr>\n      <th>Country</th>\n      <th></th>\n      <th></th>\n      <th></th>\n      <th></th>\n      <th></th>\n      <th></th>\n      <th></th>\n      <th></th>\n      <th></th>\n      <th></th>\n      <th></th>\n      <th></th>\n      <th></th>\n      <th></th>\n      <th></th>\n      <th></th>\n      <th></th>\n      <th></th>\n      <th></th>\n      <th></th>\n      <th></th>\n    </tr>\n  </thead>\n  <tbody>\n    <tr>\n      <th>Afghanistan</th>\n      <td>0</td>\n      <td>0</td>\n      <td>0</td>\n      <td>0</td>\n      <td>0</td>\n      <td>0</td>\n      <td>0</td>\n      <td>0</td>\n      <td>0</td>\n      <td>0</td>\n      <td>...</td>\n      <td>2651</td>\n      <td>3013</td>\n      <td>3326</td>\n      <td>3928</td>\n      <td>4201</td>\n      <td>4725</td>\n      <td>5164</td>\n      <td>5508</td>\n      <td>6158</td>\n      <td>7660</td>\n    </tr>\n    <tr>\n      <th>Albania</th>\n      <td>0</td>\n      <td>0</td>\n      <td>0</td>\n      <td>0</td>\n      <td>0</td>\n      <td>0</td>\n      <td>0</td>\n      <td>0</td>\n      <td>0</td>\n      <td>0</td>\n      <td>...</td>\n      <td>960</td>\n      <td>980</td>\n      <td>1001</td>\n      <td>1034</td>\n      <td>1039</td>\n      <td>1044</td>\n      <td>1055</td>\n      <td>1064</td>\n      <td>1077</td>\n      <td>1086</td>\n    </tr>\n    <tr>\n      <th>Algeria</th>\n      <td>0</td>\n      <td>0</td>\n      <td>0</td>\n      <td>0</td>\n      <td>0</td>\n      <td>0</td>\n      <td>0</td>\n      <td>0</td>\n      <td>0</td>\n      <td>0</td>\n      <td>...</td>\n      <td>6951</td>\n      <td>7074</td>\n      <td>7255</td>\n      <td>7322</td>\n      <td>7420</td>\n      <td>7606</td>\n      <td>7735</td>\n      <td>7842</td>\n      <td>7943</td>\n      <td>8078</td>\n    </tr>\n    <tr>\n      <th>Andorra</th>\n      <td>0</td>\n      <td>0</td>\n      <td>0</td>\n      <td>0</td>\n      <td>0</td>\n      <td>0</td>\n      <td>0</td>\n      <td>0</td>\n      <td>0</td>\n      <td>0</td>\n      <td>...</td>\n      <td>757</td>\n      <td>759</td>\n      <td>780</td>\n      <td>781</td>\n      <td>781</td>\n      <td>781</td>\n      <td>789</td>\n      <td>789</td>\n      <td>791</td>\n      <td>792</td>\n    </tr>\n    <tr>\n      <th>Angola</th>\n      <td>0</td>\n      <td>0</td>\n      <td>0</td>\n      <td>0</td>\n      <td>0</td>\n      <td>0</td>\n      <td>0</td>\n      <td>0</td>\n      <td>0</td>\n      <td>0</td>\n      <td>...</td>\n      <td>38</td>\n      <td>40</td>\n      <td>41</td>\n      <td>42</td>\n      <td>61</td>\n      <td>61</td>\n      <td>64</td>\n      <td>64</td>\n      <td>64</td>\n      <td>64</td>\n    </tr>\n    <tr>\n      <th>Antigua and Barbuda</th>\n      <td>0</td>\n      <td>0</td>\n      <td>0</td>\n      <td>0</td>\n      <td>0</td>\n      <td>0</td>\n      <td>0</td>\n      <td>0</td>\n      <td>0</td>\n      <td>0</td>\n      <td>...</td>\n      <td>20</td>\n      <td>20</td>\n      <td>20</td>\n      <td>20</td>\n      <td>20</td>\n      <td>20</td>\n      <td>20</td>\n      <td>22</td>\n      <td>22</td>\n      <td>22</td>\n    </tr>\n    <tr>\n      <th>Argentina</th>\n      <td>0</td>\n      <td>0</td>\n      <td>0</td>\n      <td>0</td>\n      <td>0</td>\n      <td>0</td>\n      <td>0</td>\n      <td>0</td>\n      <td>0</td>\n      <td>0</td>\n      <td>...</td>\n      <td>7568</td>\n      <td>7991</td>\n      <td>8332</td>\n      <td>8743</td>\n      <td>9083</td>\n      <td>9564</td>\n      <td>9891</td>\n      <td>10174</td>\n      <td>10512</td>\n      <td>10721</td>\n    </tr>\n    <tr>\n      <th>Armenia</th>\n      <td>0</td>\n      <td>0</td>\n      <td>0</td>\n      <td>0</td>\n      <td>0</td>\n      <td>0</td>\n      <td>0</td>\n      <td>0</td>\n      <td>0</td>\n      <td>0</td>\n      <td>...</td>\n      <td>4451</td>\n      <td>5226</td>\n      <td>5466</td>\n      <td>5639</td>\n      <td>6081</td>\n      <td>6214</td>\n      <td>6276</td>\n      <td>6571</td>\n      <td>6814</td>\n      <td>7560</td>\n    </tr>\n    <tr>\n      <th>Australia</th>\n      <td>0</td>\n      <td>0</td>\n      <td>0</td>\n      <td>0</td>\n      <td>0</td>\n      <td>0</td>\n      <td>0</td>\n      <td>0</td>\n      <td>2</td>\n      <td>2</td>\n      <td>...</td>\n      <td>6740</td>\n      <td>6759</td>\n      <td>6782</td>\n      <td>6803</td>\n      <td>6838</td>\n      <td>6851</td>\n      <td>6856</td>\n      <td>6861</td>\n      <td>6877</td>\n      <td>6878</td>\n    </tr>\n    <tr>\n      <th>Austria</th>\n      <td>0</td>\n      <td>0</td>\n      <td>0</td>\n      <td>0</td>\n      <td>0</td>\n      <td>0</td>\n      <td>0</td>\n      <td>0</td>\n      <td>0</td>\n      <td>0</td>\n      <td>...</td>\n      <td>15875</td>\n      <td>15910</td>\n      <td>15949</td>\n      <td>15985</td>\n      <td>16012</td>\n      <td>16059</td>\n      <td>16066</td>\n      <td>16089</td>\n      <td>16099</td>\n      <td>16101</td>\n    </tr>\n  </tbody>\n</table>\n<p>10 rows × 149 columns</p>\n</div>"
     },
     "metadata": {},
     "execution_count": 4
    }
   ],
   "source": [
    "import pandas as pd\n",
    "path = 'C:/Users/ayush/Desktop/R/'\n",
    "df = pd.read_csv(path + 'covid19_recovered_global.csv')\n",
    "df.drop(columns=['Province/State','Lat', 'Long'], inplace=True)\n",
    "col = 'Country/Region'\n",
    "df.sort_values(by=col, inplace=True)\n",
    "df.style.hide_index()\n",
    "df.reset_index(drop=True, inplace=True)\n",
    "df = df.rename(columns={col:'Country'})\n",
    "col = 'Country'\n",
    "df = df.groupby([col]).sum()\n",
    "df.head(10)\n"
   ]
  },
  {
   "cell_type": "code",
   "execution_count": 10,
   "metadata": {},
   "outputs": [],
   "source": [
    "df.to_csv(path + 'covid19_recovered.csv')"
   ]
  },
  {
   "cell_type": "code",
   "execution_count": null,
   "metadata": {},
   "outputs": [],
   "source": []
  }
 ],
 "metadata": {
  "language_info": {
   "codemirror_mode": {
    "name": "ipython",
    "version": 3
   },
   "file_extension": ".py",
   "mimetype": "text/x-python",
   "name": "python",
   "nbconvert_exporter": "python",
   "pygments_lexer": "ipython3",
   "version": "3.7.4-final"
  },
  "orig_nbformat": 2,
  "kernelspec": {
   "name": "python37464bit12ab0d5668504f408ccbccc2f611f02d",
   "display_name": "Python 3.7.4 64-bit"
  }
 },
 "nbformat": 4,
 "nbformat_minor": 2
}